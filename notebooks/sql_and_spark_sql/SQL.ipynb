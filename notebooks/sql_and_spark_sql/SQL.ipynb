{
 "cells": [
  {
   "cell_type": "markdown",
   "id": "df0b9d90-14c9-44c2-9a95-9ca1441d7c71",
   "metadata": {},
   "source": [
    "1. **Prepare o Dataset**:\n",
    "   - Crie o arquivo `sales_data.csv` na pasta `data/input/` com o seguinte conteúdo:\n",
    "     ```csv\n",
    "     id,product,category,region,sales_amount,transaction_date\n",
    "     1,Product A,Category 1,North,100,2023-01-01\n",
    "     2,Product B,Category 1,North,200,2023-01-02\n",
    "     3,Product C,Category 2,South,300,2023-01-03\n",
    "     4,Product D,Category 2,South,400,2023-01-04\n",
    "     5,Product E,Category 1,North,150,2023-01-05\n",
    "     ```"
   ]
  },
  {
   "cell_type": "code",
   "execution_count": 1,
   "id": "22f3aeac-142f-4570-bb26-aa2f16df4796",
   "metadata": {},
   "outputs": [],
   "source": [
    "import pandas as pd\n",
    "\n",
    "# Dados fictícios\n",
    "data = {\n",
    "    \"id\": [1, 2, 3, 4, 5],\n",
    "    \"product\": [\"Product A\", \"Product B\", \"Product C\", \"Product D\", \"Product E\"],\n",
    "    \"category\": [\"Category 1\", \"Category 1\", \"Category 2\", \"Category 2\", \"Category 1\"],\n",
    "    \"region\": [\"North\", \"North\", \"South\", \"South\", \"North\"],\n",
    "    \"sales_amount\": [100, 200, 300, 400, 150],\n",
    "    \"transaction_date\": [\"2023-01-01\", \"2023-01-02\", \"2023-01-03\", \"2023-01-04\", \"2023-01-05\"]\n",
    "}"
   ]
  },
  {
   "cell_type": "code",
   "execution_count": 2,
   "id": "2d398dbf-9f0a-4bce-81b7-d0194fe73c11",
   "metadata": {},
   "outputs": [
    {
     "name": "stdout",
     "output_type": "stream",
     "text": [
      "   id    product    category region  sales_amount transaction_date\n",
      "0   1  Product A  Category 1  North           100       2023-01-01\n",
      "1   2  Product B  Category 1  North           200       2023-01-02\n",
      "2   3  Product C  Category 2  South           300       2023-01-03\n",
      "3   4  Product D  Category 2  South           400       2023-01-04\n",
      "4   5  Product E  Category 1  North           150       2023-01-05\n"
     ]
    }
   ],
   "source": [
    "# Criar DataFrame\n",
    "df = pd.DataFrame(data)\n",
    "print(df)"
   ]
  },
  {
   "cell_type": "code",
   "execution_count": 3,
   "id": "f8cfa5c8-062c-4489-8be0-7d4a3a8f903e",
   "metadata": {},
   "outputs": [],
   "source": [
    "import os\n",
    "\n",
    "# Caminho para salvar o arquivo\n",
    "output_path = \"../data/input/sales_data.csv\"\n",
    "\n",
    "# Garantir que o diretório existe\n",
    "os.makedirs(os.path.dirname(output_path), exist_ok=True)"
   ]
  },
  {
   "cell_type": "code",
   "execution_count": 4,
   "id": "afd7fd8f-5247-4b67-b89f-17831af5fbb9",
   "metadata": {},
   "outputs": [
    {
     "name": "stdout",
     "output_type": "stream",
     "text": [
      "Dataset criado em ../data/input/sales_data.csv\n"
     ]
    }
   ],
   "source": [
    "# Salvar como CSV\n",
    "df.to_csv(output_path, index=False)\n",
    "\n",
    "print(f\"Dataset criado em {output_path}\")"
   ]
  },
  {
   "cell_type": "markdown",
   "id": "f0b742ac-42d1-4b17-814b-4796f853a4ad",
   "metadata": {},
   "source": [
    "2. **Execute as Seções**:\n",
    "   - Execute cada célula no Jupyter Notebook.\n",
    "   - Adapte as queries para diferentes cenários."
   ]
  },
  {
   "cell_type": "code",
   "execution_count": 5,
   "id": "ce5dcb7e-2013-4ea5-870b-25969e3b29ea",
   "metadata": {},
   "outputs": [
    {
     "name": "stdout",
     "output_type": "stream",
     "text": [
      "   id    product    category region  sales_amount transaction_date\n",
      "0   1  Product A  Category 1  North           100       2023-01-01\n",
      "1   2  Product B  Category 1  North           200       2023-01-02\n",
      "2   3  Product C  Category 2  South           300       2023-01-03\n",
      "3   4  Product D  Category 2  South           400       2023-01-04\n",
      "4   5  Product E  Category 1  North           150       2023-01-05\n"
     ]
    }
   ],
   "source": [
    "import pandas as pd\n",
    "\n",
    "# Carregar o dataset\n",
    "data_path = \"../data/input/sales_data.csv\"\n",
    "df = pd.read_csv(data_path)\n",
    "\n",
    "# Visualizar as primeiras linhas\n",
    "print(df.head())\n"
   ]
  },
  {
   "cell_type": "markdown",
   "id": "a50fe595-8d9a-4e32-ad31-9b1a5f345e8f",
   "metadata": {},
   "source": [
    "## Configurar SQLite no Notebook ##\n",
    "\n",
    "**Instalar SQLite e bibliotecas necessárias (se ainda não estiverem instaladas):**\n"
   ]
  },
  {
   "cell_type": "code",
   "execution_count": 6,
   "id": "0df34f2b-ea02-4a86-8cf0-157c3d56d946",
   "metadata": {},
   "outputs": [],
   "source": [
    "import sqlite3\n",
    "import pandas as pd"
   ]
  },
  {
   "cell_type": "code",
   "execution_count": 7,
   "id": "4efb81aa-5adc-469c-b9de-b5883fe2867c",
   "metadata": {},
   "outputs": [],
   "source": [
    "# Conectar ao banco SQLite (cria o arquivo \"example.db\" no diretório atual)\n",
    "conn = sqlite3.connect(\"example.db\")"
   ]
  },
  {
   "cell_type": "code",
   "execution_count": 8,
   "id": "5f890372-1d74-42b7-b189-4366387891c0",
   "metadata": {},
   "outputs": [
    {
     "name": "stdout",
     "output_type": "stream",
     "text": [
      "Banco de dados configurado com sucesso!\n"
     ]
    }
   ],
   "source": [
    "# Criar uma tabela no banco de dados usando o DataFrame existente\n",
    "df.to_sql(\"sales\", conn, if_exists=\"replace\", index=False)\n",
    "\n",
    "print(\"Banco de dados configurado com sucesso!\")"
   ]
  },
  {
   "cell_type": "markdown",
   "id": "43fad2cd-cb59-4491-a2b7-4c4cd01ffdf1",
   "metadata": {},
   "source": [
    "### Consultas Básicas ###"
   ]
  },
  {
   "cell_type": "code",
   "execution_count": 12,
   "id": "7127de31-1159-449a-bd09-fdb1894f2fc2",
   "metadata": {},
   "outputs": [
    {
     "name": "stdout",
     "output_type": "stream",
     "text": [
      "Projeções e Filtros:\n",
      "   region    product  sales_amount\n",
      "0  North  Product B           200\n",
      "1  North  Product E           150\n",
      "2  North  Product A           100\n"
     ]
    }
   ],
   "source": [
    "# Projeções e Filtros\n",
    "query = \"\"\"\n",
    "SELECT\n",
    "    region,\n",
    "    product,\n",
    "    sales_amount\n",
    "FROM\n",
    "    sales\n",
    "WHERE\n",
    "    region = 'North'\n",
    "ORDER BY\n",
    "    sales_amount DESC\n",
    "\"\"\"\n",
    "\n",
    "result = pd.read_sql_query(query, conn)\n",
    "print(\"Projeções e Filtros:\\n\", result)\n"
   ]
  },
  {
   "cell_type": "code",
   "execution_count": 14,
   "id": "3f4e093a-d6eb-498a-b504-5b887c40adfc",
   "metadata": {},
   "outputs": [
    {
     "name": "stdout",
     "output_type": "stream",
     "text": [
      "     product  sales_amount\n",
      "0  Product D           400\n",
      "1  Product C           300\n",
      "2  Product B           200\n",
      "3  Product E           150\n",
      "4  Product A           100\n"
     ]
    }
   ],
   "source": [
    "# Ordenação: Ordenar as vendas em ordem decrescente\n",
    "query = \"\"\"\n",
    "SELECT\n",
    "    product,\n",
    "    sales_amount\n",
    "FROM\n",
    "    sales\n",
    "ORDER BY\n",
    "    sales_amount DESC\n",
    "\"\"\"\n",
    "result = pd.read_sql_query(query, conn)\n",
    "print(result)\n"
   ]
  },
  {
   "cell_type": "code",
   "execution_count": 15,
   "id": "c8ee5d87-2b10-4758-90c4-316dbdafc8b3",
   "metadata": {},
   "outputs": [
    {
     "name": "stdout",
     "output_type": "stream",
     "text": [
      "\n",
      "Soma de vendas por região:\n",
      "   region  total_sales\n",
      "0  North          450\n",
      "1  South          700\n"
     ]
    }
   ],
   "source": [
    "# Agregações: Soma e Agrupamento\n",
    "\n",
    "query = \"\"\"\n",
    "SELECT \n",
    "    region, \n",
    "    SUM(sales_amount) AS total_sales \n",
    "FROM sales \n",
    "GROUP BY region\n",
    "\"\"\"\n",
    "\n",
    "result = pd.read_sql_query(query, conn)\n",
    "print(\"\\nSoma de vendas por região:\\n\", result)"
   ]
  },
  {
   "cell_type": "code",
   "execution_count": 19,
   "id": "c92723d3-6f8c-42d6-abd3-de1244c2692e",
   "metadata": {},
   "outputs": [
    {
     "name": "stdout",
     "output_type": "stream",
     "text": [
      "  region  total_sales\n",
      "0  North          450\n",
      "1  South          700\n"
     ]
    }
   ],
   "source": [
    "# Agregação com Having: Filtrar regiões com total de vendas maior que 300\n",
    "\n",
    "query = \"\"\"\n",
    "SELECT\n",
    "    region,\n",
    "    SUM(sales_amount) AS total_sales\n",
    "FROM\n",
    "    sales\n",
    "GROUP BY\n",
    "    region\n",
    "HAVING\n",
    "    total_sales >= 300\n",
    "\"\"\"\n",
    "result = pd.read_sql_query(query, conn)\n",
    "print(result)\n"
   ]
  },
  {
   "cell_type": "markdown",
   "id": "0b64d711-d79b-4675-bf98-9da3dbabc035",
   "metadata": {},
   "source": [
    "### Funções de Janela (Windows Functions) ###"
   ]
  },
  {
   "cell_type": "markdown",
   "id": "fa237d98-0bde-463d-b5a9-2ab0cd0b8894",
   "metadata": {},
   "source": [
    "**ROW_NUMBER**"
   ]
  },
  {
   "cell_type": "code",
   "execution_count": 20,
   "id": "6839a482-33fb-444d-831e-3016af9010f9",
   "metadata": {},
   "outputs": [
    {
     "name": "stdout",
     "output_type": "stream",
     "text": [
      "  region    product  sales_amount  row_num\n",
      "0  North  Product B           200        1\n",
      "1  North  Product E           150        2\n",
      "2  North  Product A           100        3\n",
      "3  South  Product D           400        1\n",
      "4  South  Product C           300        2\n"
     ]
    }
   ],
   "source": [
    "# Atribuir um número de linha para cada produto dentro de uma região\n",
    "\n",
    "query = \"\"\"\n",
    "SELECT\n",
    "    region,\n",
    "    product,\n",
    "    sales_amount,\n",
    "    ROW_NUMBER() OVER (PARTITION BY region ORDER BY sales_amount DESC) AS row_num\n",
    "FROM\n",
    "    sales\n",
    "\"\"\"\n",
    "result = pd.read_sql_query(query, conn)\n",
    "print(result)\n"
   ]
  },
  {
   "cell_type": "markdown",
   "id": "0fdaff20-c978-482c-b658-930ffa275864",
   "metadata": {},
   "source": [
    "**RANK**"
   ]
  },
  {
   "cell_type": "code",
   "execution_count": 21,
   "id": "0db0a39b-4a72-4770-a928-8ca09c32ca28",
   "metadata": {},
   "outputs": [
    {
     "name": "stdout",
     "output_type": "stream",
     "text": [
      "  region    product  sales_amount  rank\n",
      "0  North  Product B           200     1\n",
      "1  North  Product E           150     2\n",
      "2  North  Product A           100     3\n",
      "3  South  Product D           400     1\n",
      "4  South  Product C           300     2\n"
     ]
    }
   ],
   "source": [
    "# Ranqueamento de vendas por região\n",
    "\n",
    "query = \"\"\"\n",
    "SELECT\n",
    "    region,\n",
    "    product,\n",
    "    sales_amount,\n",
    "    RANK() OVER (PARTITION BY region ORDER BY sales_amount DESC) AS rank\n",
    "FROM\n",
    "    sales\n",
    "\"\"\"\n",
    "result = pd.read_sql_query(query, conn)\n",
    "print(result)\n"
   ]
  },
  {
   "cell_type": "markdown",
   "id": "11732696-d177-435f-9808-8a48fe2cd296",
   "metadata": {},
   "source": [
    "**PARTITION BY com soma acumulada**"
   ]
  },
  {
   "cell_type": "code",
   "execution_count": 22,
   "id": "c3fe19ad-c20c-4d28-8850-194cb2fe8e7c",
   "metadata": {},
   "outputs": [
    {
     "name": "stdout",
     "output_type": "stream",
     "text": [
      "  region    product  sales_amount  running_total\n",
      "0  North  Product A           100            100\n",
      "1  North  Product B           200            300\n",
      "2  North  Product E           150            450\n",
      "3  South  Product C           300            300\n",
      "4  South  Product D           400            700\n"
     ]
    }
   ],
   "source": [
    "# Soma acumulada das vendas por região\n",
    "\n",
    "query = \"\"\"\n",
    "SELECT\n",
    "    region,\n",
    "    product,\n",
    "    sales_amount,\n",
    "    SUM(sales_amount) OVER (PARTITION BY region ORDER BY transaction_date) AS running_total\n",
    "FROM\n",
    "    sales\n",
    "\"\"\"\n",
    "result = pd.read_sql_query(query, conn)\n",
    "print(result)\n"
   ]
  },
  {
   "cell_type": "markdown",
   "id": "a6ab5e37-152c-4263-8f6f-fa084323734e",
   "metadata": {},
   "source": [
    "### Exploração Avançada ###"
   ]
  },
  {
   "cell_type": "markdown",
   "id": "6f590954-b92e-4f8f-bb59-b576f182eec2",
   "metadata": {},
   "source": [
    "**Percentual de Vendas por Região**"
   ]
  },
  {
   "cell_type": "code",
   "execution_count": 24,
   "id": "c6ac6e77-a2eb-4acd-8249-12fe3da076cf",
   "metadata": {},
   "outputs": [
    {
     "name": "stdout",
     "output_type": "stream",
     "text": [
      "  region  total_sales  sales_percentage\n",
      "0  North          450             39.13\n",
      "1  South          700             60.87\n"
     ]
    }
   ],
   "source": [
    "# Calcular o percentual de vendas por região\n",
    "query = \"\"\"\n",
    "SELECT\n",
    "    region,\n",
    "    SUM(sales_amount) AS total_sales,\n",
    "    ROUND(SUM(sales_amount) * 100.0 / (SELECT SUM(sales_amount) FROM sales), 2) AS sales_percentage\n",
    "FROM\n",
    "    sales\n",
    "GROUP BY\n",
    "    region\n",
    "\"\"\"\n",
    "result = pd.read_sql_query(query, conn)\n",
    "print(result)\n"
   ]
  },
  {
   "cell_type": "markdown",
   "id": "b3c45919-5bf0-40ef-aefe-5a17edc7e6e6",
   "metadata": {},
   "source": [
    "**Top N Produtos em Vendas por Região**"
   ]
  },
  {
   "cell_type": "code",
   "execution_count": 25,
   "id": "d6a5e516-8842-45ef-a27a-bee2a739257b",
   "metadata": {},
   "outputs": [
    {
     "name": "stdout",
     "output_type": "stream",
     "text": [
      "  region    product  sales_amount\n",
      "0  North  Product B           200\n",
      "1  North  Product E           150\n",
      "2  South  Product D           400\n",
      "3  South  Product C           300\n"
     ]
    }
   ],
   "source": [
    "# Selecionar os 2 produtos mais vendidos em cada região\n",
    "query = \"\"\"\n",
    "SELECT\n",
    "    region,\n",
    "    product,\n",
    "    sales_amount\n",
    "FROM (\n",
    "    SELECT\n",
    "        region,\n",
    "        product,\n",
    "        sales_amount,\n",
    "        RANK() OVER (PARTITION BY region ORDER BY sales_amount DESC) AS rank\n",
    "    FROM\n",
    "        sales\n",
    ")\n",
    "WHERE\n",
    "    rank <= 2\n",
    "\"\"\"\n",
    "result = pd.read_sql_query(query, conn)\n",
    "print(result)\n"
   ]
  },
  {
   "cell_type": "code",
   "execution_count": 26,
   "id": "928c654b-e3e6-4b6b-a97b-e6bd13038684",
   "metadata": {},
   "outputs": [],
   "source": [
    "conn.close()"
   ]
  }
 ],
 "metadata": {
  "kernelspec": {
   "display_name": "Python (deprep)",
   "language": "python",
   "name": "deprep"
  },
  "language_info": {
   "codemirror_mode": {
    "name": "ipython",
    "version": 3
   },
   "file_extension": ".py",
   "mimetype": "text/x-python",
   "name": "python",
   "nbconvert_exporter": "python",
   "pygments_lexer": "ipython3",
   "version": "3.11.11"
  }
 },
 "nbformat": 4,
 "nbformat_minor": 5
}
